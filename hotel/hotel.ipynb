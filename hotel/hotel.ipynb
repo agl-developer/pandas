{
 "cells": [
  {
   "cell_type": "markdown",
   "metadata": {},
   "source": [
    "### Realizar los siguientes calculos\n",
    "\n",
    "Este dataset contiene información de reservas entre dos hoteles (Resort Hotel y City Hotel). Su trabajo es contestar ciertas preguntas basandose en los datos proporcionados.\n",
    "\n",
    "1. Un inversionista esta pensando en aventurar en la industria hotelera. Según la investigación realizada por el mismo, el ha visto que los hoteles con enfoque en familias tienen un mayor retorno en inversión debido a que las familias tienden a gastar mas dinero en el hotel. ¿Cuál de los dos hoteles recibe mas familias? Tome en consideración el campo de 'children' y 'babies'.\n",
    "\n",
    "2. La industria hotelera es una industria muy susceptible a cambios repentinos en politica y medio ambiente. El inversionista desea saber que hotel ha tenido una menor cantidad de cancelaciones.\n",
    "\n",
    "3. El hotel desea enviar una promoción de 15% a todos las reservas que exceden las 4 personas y dentro de esas cuatro haya al menos 1 bebe.\n",
    "\n",
    "4. El hotel desea incrementar las ventas para las persoans que únicamente han visitado una sola vez (es decir, que no son repitentes). Encuentre los paises con el menor indice de repitencia."
   ]
  }
 ],
 "metadata": {
  "kernelspec": {
   "display_name": "Python 3",
   "language": "python",
   "name": "python3"
  },
  "language_info": {
   "codemirror_mode": {
    "name": "ipython",
    "version": 3
   },
   "file_extension": ".py",
   "mimetype": "text/x-python",
   "name": "python",
   "nbconvert_exporter": "python",
   "pygments_lexer": "ipython3",
   "version": "3.7.5"
  }
 },
 "nbformat": 4,
 "nbformat_minor": 4
}
